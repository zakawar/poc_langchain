{
 "cells": [
  {
   "cell_type": "code",
   "execution_count": 1,
   "metadata": {},
   "outputs": [],
   "source": [
    "from langchain_openai import OpenAIEmbeddings\n",
    "from pinecone import Pinecone, ServerlessSpec\n",
    "from langchain.text_splitter import RecursiveCharacterTextSplitter\n",
    "from langchain_openai import OpenAI\n",
    "from langchain_community.document_loaders import UnstructuredPDFLoader, OnlinePDFLoader, PyPDFLoader\n",
    "from langchain_openai import ChatOpenAI\n",
    "from langchain.chains.conversation.memory import ConversationBufferWindowMemory\n",
    "from langchain.chains import RetrievalQA\n",
    "from langchain.tools import BaseTool\n",
    "from subprocess import Popen,PIPE\n",
    "from dotenv import load_dotenv\n",
    "import os"
   ]
  },
  {
   "cell_type": "code",
   "execution_count": 2,
   "metadata": {},
   "outputs": [],
   "source": [
    "load_dotenv()\n",
    "openai = OpenAI(api_key=os.getenv('OPENAI_API_KEY'))\n",
    "pc = Pinecone(api_key=os.environ.get(\"PINECONE_API_KEY\"))"
   ]
  },
  {
   "cell_type": "code",
   "execution_count": 3,
   "metadata": {},
   "outputs": [],
   "source": [
    "if 'first-index' not in pc.list_indexes().names():\n",
    "    pc.create_index(\n",
    "        name='first-index', \n",
    "        dimension=1536, \n",
    "        metric='euclidean',\n",
    "        spec=ServerlessSpec(\n",
    "            cloud='aws',\n",
    "            region='us-west-2'\n",
    "        )\n",
    "    )"
   ]
  },
  {
   "cell_type": "code",
   "execution_count": 4,
   "metadata": {},
   "outputs": [
    {
     "data": {
      "text/plain": [
       "' \\nloader = PyPDFLoader(\"cybersecuirty_sb_factsheets_all.pdf\")\\npages = loader.load_and_split()\\n\\ntext_splitter = RecursiveCharacterTextSplitter(\\n    chunk_size = 1000,\\n    chunk_overlap  = 200,\\n    length_function = len,\\n)\\ndocs = text_splitter.split_documents(pages)\\n\\n'"
      ]
     },
     "execution_count": 4,
     "metadata": {},
     "output_type": "execute_result"
    }
   ],
   "source": [
    "\"\"\" \n",
    "loader = PyPDFLoader(\"cybersecuirty_sb_factsheets_all.pdf\")\n",
    "pages = loader.load_and_split()\n",
    "\n",
    "text_splitter = RecursiveCharacterTextSplitter(\n",
    "    chunk_size = 1000,\n",
    "    chunk_overlap  = 200,\n",
    "    length_function = len,\n",
    ")\n",
    "docs = text_splitter.split_documents(pages)\n",
    "\n",
    "\"\"\""
   ]
  },
  {
   "cell_type": "code",
   "execution_count": 5,
   "metadata": {},
   "outputs": [],
   "source": [
    "\n",
    "model_name = 'text-embedding-ada-002'\n",
    "embeddings = OpenAIEmbeddings(model = model_name, openai_api_key=os.getenv('OPENAI_API_KEY'))\n",
    "index_name = 'first-index'\n"
   ]
  },
  {
   "cell_type": "code",
   "execution_count": 6,
   "metadata": {},
   "outputs": [
    {
     "data": {
      "text/plain": [
       "' \\nfrom langchain.vectorstores import Pinecone\\nvector_store = Pinecone.from_texts([t.page_content for t in docs],embeddings, index_name=index_name)\\n'"
      ]
     },
     "execution_count": 6,
     "metadata": {},
     "output_type": "execute_result"
    }
   ],
   "source": [
    "\"\"\" \n",
    "from langchain.vectorstores import Pinecone\n",
    "vector_store = Pinecone.from_texts([t.page_content for t in docs],embeddings, index_name=index_name)\n",
    "\"\"\""
   ]
  },
  {
   "cell_type": "code",
   "execution_count": 7,
   "metadata": {},
   "outputs": [],
   "source": [
    "from langchain.vectorstores import Pinecone\n",
    "vector_store = Pinecone.from_existing_index(index_name,embeddings)\n"
   ]
  },
  {
   "cell_type": "code",
   "execution_count": 8,
   "metadata": {},
   "outputs": [],
   "source": [
    "query = \"How to protect your business?\"\n",
    "docs = vector_store.similarity_search(query)\n"
   ]
  },
  {
   "cell_type": "code",
   "execution_count": 9,
   "metadata": {},
   "outputs": [
    {
     "name": "stdout",
     "output_type": "stream",
     "text": [
      "CYBERSECURITY FOR\n",
      "SMALL BUSINESSHOW TO  PROTECT  YOUR BUSINESS\n",
      "Have a plan \n",
      "How would your business stay up and running after a ransomware attack? \n",
      "Put this plan in writing and share it with everyone who needs to know.\n",
      "Back up your data \n",
      "Regularly save important files to a drive or server that’s not connected to your network. Make data backup part of your routine business operations.\n",
      "Keep your security up to date \n",
      "Always install the latest patches and updates. Look for additional means of protection, like email authentication, and intrusion prevention software, and set them to update \n",
      "automatically on your computer. On mobile devices, you may have to do it manually.\n",
      "Alert your staff \n",
      "Teach them how to avoid phishing scams and show them some of the common ways \n",
      "computers and devices become infected. Include tips for spotting and protecting against \n",
      "ransomware in your regular orientation and training.\n",
      "WHAT TO \n",
      "DO IF YOU’RE\n",
      "ATTACKEDLimit the damage\n",
      "Immediately disconnect ****************************************************************************************************\n",
      "CYBERSECURITY FOR\n",
      "SMALL BUSINESS\n",
      "HOW TO\n",
      "YOUR BUSINESSPROTECT\n",
      "Back up your data\n",
      "Regularly back up your data and \n",
      "make sure those backups are not \n",
      "connected to the network. That \n",
      "way, if a phishing attack happens and hackers get to your network, \n",
      "you can restore your data. Make \n",
      "data backup part of your routine business operations.\n",
      "Keep your security \n",
      "up to date\n",
      "Always install the latest patches \n",
      "and updates. Look for additional \n",
      "means of protection, like email \n",
      "authentication and intrusion prevention software, and set them \n",
      "to update automatically on your \n",
      "computers. On mobile devices, you may have to do it manually.\n",
      "Alert your staff\n",
      "Share with them this information. Keep in mind that phishing \n",
      "scammers change their tactics \n",
      "often, so make sure you include tips for spotting the latest phishing \n",
      "schemes in your regular training.\n",
      "Deploy a safety net\n",
      "Use email authentication \n",
      "technology to help prevent \n",
      "phishing emails from reaching ****************************************************************************************************\n",
      "CYBERSECURITY FOR\n",
      "SMALL BUSINESS\n",
      "LEARN MORE AT:\n",
      "FTC.gov/SmallBusinessCYBERSECURITY BASICS\n",
      "Cyber criminals target\n",
      "companies of all sizes.Knowing some cybersecurity basics and \n",
      "putting them in practice will help you \n",
      "protect your business and reduce the risk \n",
      "of a cyber attack.\n",
      "PROTECT\n",
      "YOUR FILES & DEVICES\n",
      "Update your software\n",
      "This includes your apps, web browsers, and operating \n",
      "systems. Set updates to \n",
      "happen automatically.Secure your files\n",
      "Back up important files offline, on an external hard drive, or in \n",
      "the cloud. Make sure you store \n",
      "your paper files securely, too.Require passwords\n",
      "Use passwords for all laptops, tablets, and smartphones.\n",
      "Don’t leave these devices \n",
      "unattended in public places.\n",
      "Encrypt devices\n",
      "Encrypt devices and other media that contain sensitive personal information. \n",
      "This includes laptops, tablets, \n",
      "smartphones, removable drives, backup tapes, and cloud storage solutions.Use multi-factor authentication ****************************************************************************************************\n",
      "Create a culture of security by implementing a regular \n",
      "schedule of employee training. \n",
      "Update employees as you find out about new risks and \n",
      "vulnerabilities. If employees \n",
      "don’t attend, consider blocking their access to the network.Have a plan\n",
      "Have a plan for saving data, running the business, and \n",
      "notifying customers if you \n",
      "experience a breach. The FTC’s Data Breach Response: A Guide \n",
      "for Business gives steps you \n",
      "can take. You can find it at  FTC.gov/DataBreach.\n",
      "LEARN MORE AT:\n",
      "FTC.gov/SmallBusiness ****************************************************************************************************\n"
     ]
    }
   ],
   "source": [
    "for i in range(len(docs)):\n",
    "    print(docs[i].page_content, \"*\"*100)\n"
   ]
  },
  {
   "cell_type": "code",
   "execution_count": 10,
   "metadata": {},
   "outputs": [
    {
     "name": "stdout",
     "output_type": "stream",
     "text": [
      "CYBERSECURITY FOR\n",
      "SMALL BUSINESSHOW TO  PROTECT  YOUR BUSINESS\n",
      "Have a plan \n",
      "How would your business stay up and running after a ransomware attack? \n",
      "Put this plan in writing and share it with everyone who needs to know.\n",
      "Back up your data \n",
      "Regularly save important files to a drive or server that’s not connected to your network. Make data backup part of your routine business operations.\n",
      "Keep your security up to date \n",
      "Always install the latest patches and updates. Look for additional means of protection, like email authentication, and intrusion prevention software, and set them to update \n",
      "automatically on your computer. On mobile devices, you may have to do it manually.\n",
      "Alert your staff \n",
      "Teach them how to avoid phishing scams and show them some of the common ways \n",
      "computers and devices become infected. Include tips for spotting and protecting against \n",
      "ransomware in your regular orientation and training.\n",
      "WHAT TO \n",
      "DO IF YOU’RE\n",
      "ATTACKEDLimit the damage\n",
      "Immediately disconnect ****************************************************************************************************\n"
     ]
    }
   ],
   "source": [
    "print(docs[0].page_content, \"*\"*100)"
   ]
  },
  {
   "cell_type": "code",
   "execution_count": 11,
   "metadata": {},
   "outputs": [],
   "source": [
    "# chat completion llm\n",
    "llm = ChatOpenAI(\n",
    "    openai_api_key=os.getenv('OPENAI_API_KEY'),\n",
    "    model_name='gpt-3.5-turbo-1106',\n",
    "    temperature=0.0\n",
    ")\n",
    "# conversational memory\n",
    "conversational_memory = ConversationBufferWindowMemory(\n",
    "    memory_key='chat_history',\n",
    "    k=5,\n",
    "    return_messages=True\n",
    ")\n",
    "# retrieval qa chain\n",
    "qa = RetrievalQA.from_chain_type(\n",
    "    llm=llm,\n",
    "    chain_type=\"stuff\",\n",
    "    retriever=vector_store.as_retriever()\n",
    ")"
   ]
  },
  {
   "cell_type": "code",
   "execution_count": 12,
   "metadata": {},
   "outputs": [],
   "source": [
    "result = qa.invoke(query)[\"result\"]"
   ]
  },
  {
   "cell_type": "code",
   "execution_count": 13,
   "metadata": {},
   "outputs": [
    {
     "name": "stdout",
     "output_type": "stream",
     "text": [
      "To protect your business, you should have a plan in place for staying up and running after a ransomware attack, regularly back up your data, keep your security up to date by installing the latest patches and updates, alert your staff about phishing scams, and deploy a safety net using email authentication technology to prevent phishing emails from reaching your network. Additionally, you should update your software, secure your files, require passwords for devices, encrypt devices and media containing sensitive information, use multi-factor authentication, and create a culture of security through regular employee training. It's also important to have a plan for saving data, running the business, and notifying customers in case of a breach. For more information, you can visit FTC.gov/SmallBusiness.\n"
     ]
    }
   ],
   "source": [
    "for res in result.split(\"\\n\"):\n",
    "    if res :\n",
    "        print(res)"
   ]
  },
  {
   "cell_type": "code",
   "execution_count": 14,
   "metadata": {},
   "outputs": [],
   "source": [
    "class ExecuteCommand(BaseTool):\n",
    "    name : str =  \"execute command\",\n",
    "    description = \"execute commands in the VM\"\n",
    "\n",
    "    def _run(self, command: str):\n",
    "        cmd = command.split()\n",
    "        if cmd[0]=='sudo':\n",
    "            cmd.insert(1,'-S')\n",
    "        #print(cmd)        \n",
    "        p = Popen(cmd ,stdin = PIPE, stdout = PIPE, universal_newlines = True)\n",
    "        p.stdin.write('test1!')\n",
    "        res,_ = p.communicate()\n",
    "    \n",
    "        p.terminate()\n",
    "\n",
    "        return res\n",
    "        \n",
    "        #return json.dumps(cmd)       \n",
    "\n",
    "    def _arun(self, webpage: str):\n",
    "        raise NotImplementedError(\"This tool does not support async\")\n",
    "\n",
    "execute_command = ExecuteCommand()"
   ]
  },
  {
   "cell_type": "code",
   "execution_count": 15,
   "metadata": {},
   "outputs": [],
   "source": [
    "class Transfrom_to_Bash(BaseTool):\n",
    "    name : str = \"Transform to Bash\",\n",
    "    description= \"Give bash command to be executed in the VM\"\n",
    "\n",
    "    def _run(self, command: str):\n",
    "        return command\n",
    "\n",
    "    def _arun(self, webpage: str):\n",
    "        raise NotImplementedError(\"This tool does not support async\")\n",
    "\n",
    "TransfromtoBash = Transfrom_to_Bash()"
   ]
  },
  {
   "cell_type": "code",
   "execution_count": 16,
   "metadata": {},
   "outputs": [],
   "source": [
    "from langchain.agents import Tool\n",
    "\n",
    "tools = [\n",
    "    Tool(\n",
    "        name = 'Knowledge Base',\n",
    "        func=qa.invoke,\n",
    "        description=(\n",
    "            \"\"\"use this tool when answering general knowledge queries to get more information about the topic.\"\"\"\n",
    "        )\n",
    "    ),\n",
    "    Tool(\n",
    "        name = 'Execute Command',\n",
    "        func=execute_command._run,\n",
    "        description=(\n",
    "            \"\"\"use this tool to execute commands in the VM\"\"\"\n",
    "        )\n",
    "    ),\n",
    "    Tool(\n",
    "        name = 'Transform to Bash',\n",
    "        func=TransfromtoBash._run,\n",
    "        description=(\n",
    "            \"\"\"use this tool to transform text to bash command\"\"\"\n",
    "        )\n",
    "    )\n",
    "    \n",
    "]"
   ]
  },
  {
   "cell_type": "code",
   "execution_count": 17,
   "metadata": {},
   "outputs": [
    {
     "name": "stderr",
     "output_type": "stream",
     "text": [
      "c:\\Users\\zikri\\anaconda3\\envs\\langchain\\Lib\\site-packages\\langchain_core\\_api\\deprecation.py:117: LangChainDeprecationWarning: The function `initialize_agent` was deprecated in LangChain 0.1.0 and will be removed in 0.2.0. Use Use new agent constructor methods like create_react_agent, create_json_agent, create_structured_chat_agent, etc. instead.\n",
      "  warn_deprecated(\n"
     ]
    }
   ],
   "source": [
    "from langchain.agents import initialize_agent\n",
    "\n",
    "agent = initialize_agent(\n",
    "    agent='chat-conversational-react-description',\n",
    "    tools=tools,\n",
    "    llm=llm,\n",
    "    verbose=True,\n",
    "    max_iterations=5,\n",
    "    early_stopping_method='generate',\n",
    "    memory=conversational_memory\n",
    ")"
   ]
  },
  {
   "cell_type": "code",
   "execution_count": 18,
   "metadata": {},
   "outputs": [],
   "source": [
    "fixed_prompt = \"\"\" \n",
    "            Start looking for the answer by using the tools available first. You have to answer the question with a detailed plan by putting on points. \n",
    "            If you can, instead of text, return bash commands to be executed on a VM. Remember answer question by returning bash commands according to the question.\n",
    "            \"\"\"\n",
    "agent.agent.llm_chain.prompt.messages[0].prompt.template = fixed_prompt"
   ]
  },
  {
   "cell_type": "code",
   "execution_count": 19,
   "metadata": {},
   "outputs": [
    {
     "name": "stderr",
     "output_type": "stream",
     "text": [
      "c:\\Users\\zikri\\anaconda3\\envs\\langchain\\Lib\\site-packages\\langchain_core\\_api\\deprecation.py:117: LangChainDeprecationWarning: The function `__call__` was deprecated in LangChain 0.1.0 and will be removed in 0.2.0. Use invoke instead.\n",
      "  warn_deprecated(\n"
     ]
    },
    {
     "name": "stdout",
     "output_type": "stream",
     "text": [
      "\n",
      "\n",
      "\u001b[1m> Entering new AgentExecutor chain...\u001b[0m\n",
      "\u001b[32;1m\u001b[1;3m```json\n",
      "{\n",
      "    \"action\": \"Knowledge Base\",\n",
      "    \"action_input\": \"How to protect your business\"\n",
      "}\n",
      "```\u001b[0m\n",
      "Observation: \u001b[36;1m\u001b[1;3m{'query': 'How to protect your business', 'result': \"To protect your business, you should have a plan in place for staying up and running after a ransomware attack, regularly back up your data offline, keep your security up to date by installing the latest patches and updates, and alert your staff about phishing scams and how to avoid them. Additionally, you can deploy a safety net by using email authentication technology to help prevent phishing emails from reaching your employees. It's also important to update your software, secure your files, require passwords for devices, encrypt devices, and implement multi-factor authentication. Lastly, create a culture of security by implementing regular employee training and have a plan for saving data, running the business, and notifying customers in case of a breach. For more information, you can visit FTC.gov/SmallBusiness.\"}\u001b[0m\n",
      "Thought:\u001b[32;1m\u001b[1;3m```json\n",
      "{\n",
      "    \"action\": \"Final Answer\",\n",
      "    \"action_input\": \"To protect your business, you should have a plan in place for staying up and running after a ransomware attack, regularly back up your data offline, keep your security up to date by installing the latest patches and updates, and alert your staff about phishing scams and how to avoid them. Additionally, you can deploy a safety net by using email authentication technology to help prevent phishing emails from reaching your employees. It's also important to update your software, secure your files, require passwords for devices, encrypt devices, and implement multi-factor authentication. Lastly, create a culture of security by implementing regular employee training and have a plan for saving data, running the business, and notifying customers in case of a breach. For more information, you can visit FTC.gov/SmallBusiness.\"\n",
      "}\n",
      "```\u001b[0m\n",
      "\n",
      "\u001b[1m> Finished chain.\u001b[0m\n",
      "\n",
      "\n",
      "\u001b[1m> Entering new AgentExecutor chain...\u001b[0m\n",
      "\u001b[32;1m\u001b[1;3m```json\n",
      "{\n",
      "    \"action\": \"Knowledge Base\",\n",
      "    \"action_input\": \"protecting business\"\n",
      "}\n",
      "```\u001b[0m\n",
      "Observation: \u001b[36;1m\u001b[1;3m{'query': 'protecting business', 'result': 'To protect your business, you should follow some cybersecurity basics such as updating your software, securing your files, requiring passwords for devices, encrypting devices, using multi-factor authentication, backing up your data, keeping your security up to date, alerting your staff about phishing scams, and having a plan in place for staying up and running after a ransomware attack. Additionally, you should also ensure strong physical security to prevent lapses that could expose sensitive company data to identity theft. This includes storing paper files and electronic devices containing sensitive information in a locked and secure location.'}\u001b[0m\n",
      "Thought:\u001b[32;1m\u001b[1;3m```json\n",
      "{\n",
      "    \"action\": \"Final Answer\",\n",
      "    \"action_input\": \"To protect your business, you should follow some cybersecurity basics such as updating your software, securing your files, requiring passwords for devices, encrypting devices, using multi-factor authentication, backing up your data, keeping your security up to date, alerting your staff about phishing scams, and having a plan in place for staying up and running after a ransomware attack. Additionally, you should also ensure strong physical security to prevent lapses that could expose sensitive company data to identity theft. This includes storing paper files and electronic devices containing sensitive information in a locked and secure location.\"\n",
      "}\n",
      "```\u001b[0m\n",
      "\n",
      "\u001b[1m> Finished chain.\u001b[0m\n",
      "\n",
      "\n",
      "\u001b[1m> Entering new AgentExecutor chain...\u001b[0m\n",
      "\u001b[32;1m\u001b[1;3m```json\n",
      "{\n",
      "    \"action\": \"Transform to Bash\",\n",
      "    \"action_input\": \"To protect your business, you should follow some cybersecurity basics such as updating your software, securing your files, requiring passwords for devices, encrypting devices, using multi-factor authentication, backing up your data, keeping your security up to date, alerting your staff about phishing scams, and having a plan in place for staying up and running after a ransomware attack. Additionally, you should also ensure strong physical security to prevent lapses that could expose sensitive company data to identity theft. This includes storing paper files and electronic devices containing sensitive information in a locked and secure location.\"\n",
      "}\n",
      "```\u001b[0m\n",
      "Observation: \u001b[38;5;200m\u001b[1;3mTo protect your business, you should follow some cybersecurity basics such as updating your software, securing your files, requiring passwords for devices, encrypting devices, using multi-factor authentication, backing up your data, keeping your security up to date, alerting your staff about phishing scams, and having a plan in place for staying up and running after a ransomware attack. Additionally, you should also ensure strong physical security to prevent lapses that could expose sensitive company data to identity theft. This includes storing paper files and electronic devices containing sensitive information in a locked and secure location.\u001b[0m\n",
      "Thought:\u001b[32;1m\u001b[1;3m```json\n",
      "{\n",
      "    \"action\": \"Final Answer\",\n",
      "    \"action_input\": \"To protect your business, you should follow some cybersecurity basics such as updating your software, securing your files, requiring passwords for devices, encrypting devices, using multi-factor authentication, backing up your data, keeping your security up to date, alerting your staff about phishing scams, and having a plan in place for staying up and running after a ransomware attack. Additionally, you should also ensure strong physical security to prevent lapses that could expose sensitive company data to identity theft. This includes storing paper files and electronic devices containing sensitive information in a locked and secure location.\"\n",
      "}\n",
      "```\u001b[0m\n",
      "\n",
      "\u001b[1m> Finished chain.\u001b[0m\n",
      "\n",
      "\n",
      "\u001b[1m> Entering new AgentExecutor chain...\u001b[0m\n",
      "\u001b[32;1m\u001b[1;3m```json\n",
      "{\n",
      "    \"action\": \"Transform to Bash\",\n",
      "    \"action_input\": \"To protect your business, you should follow some cybersecurity basics such as updating your software, securing your files, requiring passwords for devices, encrypting devices, using multi-factor authentication, backing up your data, keeping your security up to date, alerting your staff about phishing scams, and having a plan in place for staying up and running after a ransomware attack. Additionally, you should also ensure strong physical security to prevent lapses that could expose sensitive company data to identity theft. This includes storing paper files and electronic devices containing sensitive information in a locked and secure location.\"\n",
      "}\n",
      "```\u001b[0m\n",
      "Observation: \u001b[38;5;200m\u001b[1;3mTo protect your business, you should follow some cybersecurity basics such as updating your software, securing your files, requiring passwords for devices, encrypting devices, using multi-factor authentication, backing up your data, keeping your security up to date, alerting your staff about phishing scams, and having a plan in place for staying up and running after a ransomware attack. Additionally, you should also ensure strong physical security to prevent lapses that could expose sensitive company data to identity theft. This includes storing paper files and electronic devices containing sensitive information in a locked and secure location.\u001b[0m\n",
      "Thought:\u001b[32;1m\u001b[1;3m```json\n",
      "{\n",
      "    \"action\": \"Final Answer\",\n",
      "    \"action_input\": \"To protect your business, you should follow some cybersecurity basics such as updating your software, securing your files, requiring passwords for devices, encrypting devices, using multi-factor authentication, backing up your data, keeping your security up to date, alerting your staff about phishing scams, and having a plan in place for staying up and running after a ransomware attack. Additionally, you should also ensure strong physical security to prevent lapses that could expose sensitive company data to identity theft. This includes storing paper files and electronic devices containing sensitive information in a locked and secure location.\"\n",
      "}\n",
      "```\u001b[0m\n",
      "\n",
      "\u001b[1m> Finished chain.\u001b[0m\n",
      "\n",
      "\n",
      "\u001b[1m> Entering new AgentExecutor chain...\u001b[0m\n",
      "\u001b[32;1m\u001b[1;3m```json\n",
      "{\n",
      "    \"action\": \"Final Answer\",\n",
      "    \"action_input\": \"I'm sorry, I cannot execute commands directly in the VM. However, I can provide you with the necessary bash commands for specific tasks. Please let me know what specific task or command you need assistance with.\"\n",
      "}\n",
      "```\u001b[0m\n",
      "\n",
      "\u001b[1m> Finished chain.\u001b[0m\n"
     ]
    }
   ],
   "source": [
    "inp = []\n",
    "memory =[]\n",
    "out = []\n",
    "while True:\n",
    "    query = input(\"Ask me anything: \")\n",
    "    if query =='':\n",
    "        break\n",
    "    rest = agent(query)\n",
    "    inp.append(rest['input'])\n",
    "    memory.append(rest['chat_history'])\n",
    "    out.append(rest['output'])    \n",
    "    "
   ]
  },
  {
   "cell_type": "code",
   "execution_count": 20,
   "metadata": {},
   "outputs": [
    {
     "data": {
      "text/plain": [
       "[\"I'm sorry, I cannot execute commands directly in the VM. However, I can provide you with the necessary bash commands for specific tasks. Please let me know what specific task or command you need assistance with.\"]"
      ]
     },
     "execution_count": 20,
     "metadata": {},
     "output_type": "execute_result"
    }
   ],
   "source": [
    "import regex as re\n",
    "sents = re.sub(r'\\n[0-9]+\\.\\s', r'\\n\\n\\n\\n', rest['output'])\n",
    "\n",
    "#[sent.strip() for sent in re.split(r'\\s[0-9]+\\.',rest['output'])]\n",
    "\n",
    "[sent.strip() for sent in re.split(r'\\n\\n\\n\\n',sents)]"
   ]
  },
  {
   "cell_type": "code",
   "execution_count": 21,
   "metadata": {},
   "outputs": [
    {
     "data": {
      "text/plain": [
       "dict"
      ]
     },
     "execution_count": 21,
     "metadata": {},
     "output_type": "execute_result"
    }
   ],
   "source": [
    "type(rest)"
   ]
  },
  {
   "cell_type": "code",
   "execution_count": 22,
   "metadata": {},
   "outputs": [
    {
     "data": {
      "text/plain": [
       "dict_keys(['input', 'chat_history', 'output'])"
      ]
     },
     "execution_count": 22,
     "metadata": {},
     "output_type": "execute_result"
    }
   ],
   "source": [
    "rest.keys()"
   ]
  },
  {
   "cell_type": "code",
   "execution_count": 23,
   "metadata": {},
   "outputs": [
    {
     "data": {
      "text/plain": [
       "\"I'm sorry, I cannot execute commands directly in the VM. However, I can provide you with the necessary bash commands for specific tasks. Please let me know what specific task or command you need assistance with.\""
      ]
     },
     "execution_count": 23,
     "metadata": {},
     "output_type": "execute_result"
    }
   ],
   "source": [
    "rest['output']"
   ]
  },
  {
   "cell_type": "code",
   "execution_count": 24,
   "metadata": {},
   "outputs": [
    {
     "data": {
      "text/plain": [
       "[HumanMessage(content='How to protect your business?'),\n",
       " AIMessage(content=\"To protect your business, you should have a plan in place for staying up and running after a ransomware attack, regularly back up your data offline, keep your security up to date by installing the latest patches and updates, and alert your staff about phishing scams and how to avoid them. Additionally, you can deploy a safety net by using email authentication technology to help prevent phishing emails from reaching your employees. It's also important to update your software, secure your files, require passwords for devices, encrypt devices, and implement multi-factor authentication. Lastly, create a culture of security by implementing regular employee training and have a plan for saving data, running the business, and notifying customers in case of a breach. For more information, you can visit FTC.gov/SmallBusiness.\"),\n",
       " HumanMessage(content='bash command'),\n",
       " AIMessage(content='To protect your business, you should follow some cybersecurity basics such as updating your software, securing your files, requiring passwords for devices, encrypting devices, using multi-factor authentication, backing up your data, keeping your security up to date, alerting your staff about phishing scams, and having a plan in place for staying up and running after a ransomware attack. Additionally, you should also ensure strong physical security to prevent lapses that could expose sensitive company data to identity theft. This includes storing paper files and electronic devices containing sensitive information in a locked and secure location.'),\n",
       " HumanMessage(content='give bash command'),\n",
       " AIMessage(content='To protect your business, you should follow some cybersecurity basics such as updating your software, securing your files, requiring passwords for devices, encrypting devices, using multi-factor authentication, backing up your data, keeping your security up to date, alerting your staff about phishing scams, and having a plan in place for staying up and running after a ransomware attack. Additionally, you should also ensure strong physical security to prevent lapses that could expose sensitive company data to identity theft. This includes storing paper files and electronic devices containing sensitive information in a locked and secure location.'),\n",
       " HumanMessage(content='execute command'),\n",
       " AIMessage(content='To protect your business, you should follow some cybersecurity basics such as updating your software, securing your files, requiring passwords for devices, encrypting devices, using multi-factor authentication, backing up your data, keeping your security up to date, alerting your staff about phishing scams, and having a plan in place for staying up and running after a ransomware attack. Additionally, you should also ensure strong physical security to prevent lapses that could expose sensitive company data to identity theft. This includes storing paper files and electronic devices containing sensitive information in a locked and secure location.')]"
      ]
     },
     "execution_count": 24,
     "metadata": {},
     "output_type": "execute_result"
    }
   ],
   "source": [
    "rest['chat_history']"
   ]
  },
  {
   "cell_type": "code",
   "execution_count": null,
   "metadata": {},
   "outputs": [],
   "source": []
  }
 ],
 "metadata": {
  "kernelspec": {
   "display_name": "nlp_env",
   "language": "python",
   "name": "python3"
  },
  "language_info": {
   "codemirror_mode": {
    "name": "ipython",
    "version": 3
   },
   "file_extension": ".py",
   "mimetype": "text/x-python",
   "name": "python",
   "nbconvert_exporter": "python",
   "pygments_lexer": "ipython3",
   "version": "3.12.1"
  }
 },
 "nbformat": 4,
 "nbformat_minor": 2
}
