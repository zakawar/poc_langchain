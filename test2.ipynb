{
 "cells": [
  {
   "cell_type": "code",
   "execution_count": 1,
   "metadata": {},
   "outputs": [],
   "source": [
    "from langchain_openai import OpenAIEmbeddings\n",
    "from pinecone import Pinecone, ServerlessSpec\n",
    "from langchain.text_splitter import RecursiveCharacterTextSplitter\n",
    "from langchain_openai import OpenAI\n",
    "from langchain_community.document_loaders import UnstructuredPDFLoader, OnlinePDFLoader, PyPDFLoader\n",
    "from langchain_openai import ChatOpenAI\n",
    "from langchain.chains.conversation.memory import ConversationBufferWindowMemory\n",
    "from langchain.chains import RetrievalQA\n",
    "from langchain.tools import BaseTool\n",
    "from subprocess import Popen,PIPE\n",
    "from dotenv import load_dotenv\n",
    "import os"
   ]
  },
  {
   "cell_type": "code",
   "execution_count": 2,
   "metadata": {},
   "outputs": [],
   "source": [
    "load_dotenv()\n",
    "openai = OpenAI(api_key=os.getenv('OPENAI_API_KEY'))"
   ]
  },
  {
   "cell_type": "code",
   "execution_count": 3,
   "metadata": {},
   "outputs": [],
   "source": [
    "model_name = 'text-embedding-ada-002'\n",
    "embeddings = OpenAIEmbeddings(model = model_name, openai_api_key=os.getenv('OPENAI_API_KEY'))\n",
    "index_name = 'first-index'\n"
   ]
  },
  {
   "cell_type": "code",
   "execution_count": 4,
   "metadata": {},
   "outputs": [],
   "source": [
    "from langchain.vectorstores import Pinecone\n",
    "vector_store = Pinecone.from_existing_index(index_name,embeddings)"
   ]
  },
  {
   "cell_type": "code",
   "execution_count": 5,
   "metadata": {},
   "outputs": [],
   "source": [
    "# chat completion llm\n",
    "llm = ChatOpenAI(\n",
    "    openai_api_key=os.getenv('OPENAI_API_KEY'),\n",
    "    model_name='gpt-3.5-turbo-1106',\n",
    "    temperature=0.0\n",
    ")\n",
    "# conversational memory\n",
    "conversational_memory = ConversationBufferWindowMemory(\n",
    "    memory_key='chat_history',\n",
    "    k=5,\n",
    "    return_messages=True\n",
    ")\n",
    "# retrieval qa chain\n",
    "qa = RetrievalQA.from_chain_type(\n",
    "    llm=llm,\n",
    "    chain_type=\"stuff\",\n",
    "    retriever=vector_store.as_retriever()\n",
    ")"
   ]
  },
  {
   "cell_type": "code",
   "execution_count": 6,
   "metadata": {},
   "outputs": [],
   "source": [
    "class ExecuteCommand(BaseTool):\n",
    "    name : str =  \"execute command\",\n",
    "    description = \"executer les commandes dans la machine virtuelle.\"\n",
    "\n",
    "    def _run(self, command: str):\n",
    "        cmd = command.split()\n",
    "        if cmd[0]=='sudo':\n",
    "            cmd.insert(1,'-S')\n",
    "        #print(cmd)        \n",
    "        p = Popen(cmd ,stdin = PIPE, stdout = PIPE, universal_newlines = True)\n",
    "        p.stdin.write('test1!')\n",
    "        res,_ = p.communicate()\n",
    "    \n",
    "        p.terminate()\n",
    "\n",
    "        return res\n",
    "        \n",
    "        #return json.dumps(cmd)       \n",
    "\n",
    "    def _arun(self, webpage: str):\n",
    "        raise NotImplementedError(\"Cet outil ne support pas async\")\n",
    "\n",
    "execute_command = ExecuteCommand()"
   ]
  },
  {
   "cell_type": "code",
   "execution_count": 7,
   "metadata": {},
   "outputs": [],
   "source": [
    "class Transfrom_to_Bash(BaseTool):\n",
    "    name : str = \"Transform to Bash\",\n",
    "    description= \"Transformer les textes en commandes bash qui vont être executées dans la machine virtuelle.\"\n",
    "\n",
    "    def _run(self, command: str):\n",
    "        return command\n",
    "\n",
    "    def _arun(self, webpage: str):\n",
    "        raise NotImplementedError(\"Cet outil ne support pas async\")\n",
    "\n",
    "TransfromtoBash = Transfrom_to_Bash()"
   ]
  },
  {
   "cell_type": "code",
   "execution_count": 8,
   "metadata": {},
   "outputs": [],
   "source": [
    "from langchain.agents import Tool\n",
    "\n",
    "tools = [\n",
    "    Tool(\n",
    "        name = 'Knowledge Base',\n",
    "        func=qa.invoke,\n",
    "        description=(\n",
    "            \"\"\"Utilise cet outil pour répondre aux qestions.\"\"\"\n",
    "        )\n",
    "    ),\n",
    "    Tool(\n",
    "        name = 'Execute Command',\n",
    "        func=execute_command._run,\n",
    "        description=(\n",
    "            \"executer les commandes dans la machine virtuelle.\"\n",
    "        )\n",
    "    ),\n",
    "    Tool(\n",
    "        name = 'Transform to Bash',\n",
    "        func=TransfromtoBash._run,\n",
    "        description=(\n",
    "            \"Transformer les textes en commandes bash qui vont être executées dans la machine virtuelle.\"\n",
    "        )\n",
    "    )\n",
    "    \n",
    "]"
   ]
  },
  {
   "cell_type": "code",
   "execution_count": 9,
   "metadata": {},
   "outputs": [
    {
     "name": "stderr",
     "output_type": "stream",
     "text": [
      "c:\\Users\\zikri\\anaconda3\\envs\\langchain\\Lib\\site-packages\\langchain_core\\_api\\deprecation.py:117: LangChainDeprecationWarning: The function `initialize_agent` was deprecated in LangChain 0.1.0 and will be removed in 0.2.0. Use Use new agent constructor methods like create_react_agent, create_json_agent, create_structured_chat_agent, etc. instead.\n",
      "  warn_deprecated(\n"
     ]
    }
   ],
   "source": [
    "from langchain.agents import initialize_agent\n",
    "\n",
    "agent = initialize_agent(\n",
    "    agent='chat-conversational-react-description',\n",
    "    tools=tools,\n",
    "    llm=llm,\n",
    "    verbose=True,\n",
    "    max_iterations=5,\n",
    "    early_stopping_method='generate',\n",
    "    memory=conversational_memory\n",
    ")"
   ]
  },
  {
   "cell_type": "code",
   "execution_count": 10,
   "metadata": {},
   "outputs": [],
   "source": [
    "fixed_prompt = \"\"\" \n",
    "                Vous êtes un agent IA qui doit répondre à des questions. Commencez par utiliser les outils disponibles pour répondre à la question. Vous devez répondre à la question avec un plan détaillé en commandes bash. \n",
    "                Souvenez-vous de répondre à la question en retournant des commandes bash selon la question.\n",
    "                \"\"\"\n",
    "agent.agent.llm_chain.prompt.messages[0].prompt.template = fixed_prompt"
   ]
  },
  {
   "cell_type": "code",
   "execution_count": 11,
   "metadata": {},
   "outputs": [
    {
     "name": "stderr",
     "output_type": "stream",
     "text": [
      "c:\\Users\\zikri\\anaconda3\\envs\\langchain\\Lib\\site-packages\\langchain_core\\_api\\deprecation.py:117: LangChainDeprecationWarning: The function `__call__` was deprecated in LangChain 0.1.0 and will be removed in 0.2.0. Use invoke instead.\n",
      "  warn_deprecated(\n"
     ]
    },
    {
     "name": "stdout",
     "output_type": "stream",
     "text": [
      "\n",
      "\n",
      "\u001b[1m> Entering new AgentExecutor chain...\u001b[0m\n",
      "\u001b[32;1m\u001b[1;3m```json\n",
      "{\n",
      "    \"action\": \"Knowledge Base\",\n",
      "    \"action_input\": \"How to protect your business\"\n",
      "}\n",
      "```\u001b[0m\n",
      "Observation: \u001b[36;1m\u001b[1;3m{'query': 'How to protect your business', 'result': \"To protect your business, you should have a plan in place for staying up and running after a ransomware attack. This plan should be put in writing and shared with everyone who needs to know. Regularly back up your data and ensure that those backups are not connected to the network. Keep your security up to date by installing the latest patches and updates, and look for additional means of protection like email authentication and intrusion prevention software. It's important to alert your staff and teach them how to avoid phishing scams and spot common ways computers and devices become infected. Additionally, deploying a safety net, such as email authentication technology, can help prevent phishing emails from reaching your employees. Creating a culture of security by implementing regular employee training and having a plan for saving data, running the business, and notifying customers in case of a breach are also important steps to protect your business. For more information, you can visit FTC.gov/SmallBusiness.\"}\u001b[0m\n",
      "Thought:\u001b[32;1m\u001b[1;3m```json\n",
      "{\n",
      "    \"action\": \"Final Answer\",\n",
      "    \"action_input\": \"To protect your business, you should have a plan in place for staying up and running after a ransomware attack. This plan should be put in writing and shared with everyone who needs to know. Regularly back up your data and ensure that those backups are not connected to the network. Keep your security up to date by installing the latest patches and updates, and look for additional means of protection like email authentication and intrusion prevention software. It's important to alert your staff and teach them how to avoid phishing scams and spot common ways computers and devices become infected. Additionally, deploying a safety net, such as email authentication technology, can help prevent phishing emails from reaching your employees. Creating a culture of security by implementing regular employee training and having a plan for saving data, running the business, and notifying customers in case of a breach are also important steps to protect your business. For more information, you can visit FTC.gov/SmallBusiness.\"\n",
      "}\n",
      "```\u001b[0m\n",
      "\n",
      "\u001b[1m> Finished chain.\u001b[0m\n",
      "\n",
      "\n",
      "\u001b[1m> Entering new AgentExecutor chain...\u001b[0m\n",
      "\u001b[32;1m\u001b[1;3m```json\n",
      "{\n",
      "    \"action\": \"Knowledge Base\",\n",
      "    \"action_input\": \"How to protect your business\"\n",
      "}\n",
      "```\u001b[0m\n",
      "Observation: \u001b[36;1m\u001b[1;3m{'query': 'How to protect your business', 'result': 'To protect your business, you should have a plan in place for staying up and running after a ransomware attack, regularly back up your data to a drive or server not connected to your network, keep your security up to date by installing the latest patches and updates, alert your staff about phishing scams and provide regular training, deploy email authentication technology to prevent phishing emails, update your software and secure your files, require passwords for devices, encrypt devices and media containing sensitive information, use multi-factor authentication, and create a culture of security through regular employee training. Additionally, have a plan for saving data, running the business, and notifying customers in case of a breach. For more information, you can visit FTC.gov/SmallBusiness.'}\u001b[0m\n",
      "Thought:\u001b[32;1m\u001b[1;3m```json\n",
      "{\n",
      "    \"action\": \"Final Answer\",\n",
      "    \"action_input\": \"To protect your business, you should have a plan in place for staying up and running after a ransomware attack. Regularly back up your data to a drive or server not connected to your network, keep your security up to date by installing the latest patches and updates, alert your staff about phishing scams and provide regular training, deploy email authentication technology to prevent phishing emails, update your software and secure your files, require passwords for devices, encrypt devices and media containing sensitive information, use multi-factor authentication, and create a culture of security through regular employee training. Additionally, have a plan for saving data, running the business, and notifying customers in case of a breach. For more information, you can visit FTC.gov/SmallBusiness.\"\n",
      "}\n",
      "```\u001b[0m\n",
      "\n",
      "\u001b[1m> Finished chain.\u001b[0m\n",
      "\n",
      "\n",
      "\u001b[1m> Entering new AgentExecutor chain...\u001b[0m\n",
      "\u001b[32;1m\u001b[1;3m```json\n",
      "{\n",
      "    \"action\": \"Transform to Bash\",\n",
      "    \"action_input\": \"To protect your business, you should have a plan in place for staying up and running after a ransomware attack. Regularly back up your data to a drive or server not connected to your network, keep your security up to date by installing the latest patches and updates, alert your staff about phishing scams and provide regular training, deploy email authentication technology to prevent phishing emails, update your software and secure your files, require passwords for devices, encrypt devices and media containing sensitive information, use multi-factor authentication, and create a culture of security through regular employee training. Additionally, have a plan for saving data, running the business, and notifying customers in case of a breach. For more information, you can visit FTC.gov/SmallBusiness.\"\n",
      "}\n",
      "```\u001b[0m\n",
      "Observation: \u001b[38;5;200m\u001b[1;3mTo protect your business, you should have a plan in place for staying up and running after a ransomware attack. Regularly back up your data to a drive or server not connected to your network, keep your security up to date by installing the latest patches and updates, alert your staff about phishing scams and provide regular training, deploy email authentication technology to prevent phishing emails, update your software and secure your files, require passwords for devices, encrypt devices and media containing sensitive information, use multi-factor authentication, and create a culture of security through regular employee training. Additionally, have a plan for saving data, running the business, and notifying customers in case of a breach. For more information, you can visit FTC.gov/SmallBusiness.\u001b[0m\n",
      "Thought:\u001b[32;1m\u001b[1;3m```json\n",
      "{\n",
      "    \"action\": \"Final Answer\",\n",
      "    \"action_input\": \"To protect your business, you should have a plan in place for staying up and running after a ransomware attack. Regularly back up your data to a drive or server not connected to your network, keep your security up to date by installing the latest patches and updates, alert your staff about phishing scams and provide regular training, deploy email authentication technology to prevent phishing emails, update your software and secure your files, require passwords for devices, encrypt devices and media containing sensitive information, use multi-factor authentication, and create a culture of security through regular employee training. Additionally, have a plan for saving data, running the business, and notifying customers in case of a breach. For more information, you can visit FTC.gov/SmallBusiness.\"\n",
      "}\n",
      "```\u001b[0m\n",
      "\n",
      "\u001b[1m> Finished chain.\u001b[0m\n",
      "\n",
      "\n",
      "\u001b[1m> Entering new AgentExecutor chain...\u001b[0m\n",
      "\u001b[32;1m\u001b[1;3m```json\n",
      "{\n",
      "    \"action\": \"Transform to Bash\",\n",
      "    \"action_input\": \"To protect your business, you should have a plan in place for staying up and running after a ransomware attack. Regularly back up your data to a drive or server not connected to your network, keep your security up to date by installing the latest patches and updates, alert your staff about phishing scams and provide regular training, deploy email authentication technology to prevent phishing emails, update your software and secure your files, require passwords for devices, encrypt devices and media containing sensitive information, use multi-factor authentication, and create a culture of security through regular employee training. Additionally, have a plan for saving data, running the business, and notifying customers in case of a breach. For more information, you can visit FTC.gov/SmallBusiness.\"\n",
      "}\n",
      "```\u001b[0m\n",
      "Observation: \u001b[38;5;200m\u001b[1;3mTo protect your business, you should have a plan in place for staying up and running after a ransomware attack. Regularly back up your data to a drive or server not connected to your network, keep your security up to date by installing the latest patches and updates, alert your staff about phishing scams and provide regular training, deploy email authentication technology to prevent phishing emails, update your software and secure your files, require passwords for devices, encrypt devices and media containing sensitive information, use multi-factor authentication, and create a culture of security through regular employee training. Additionally, have a plan for saving data, running the business, and notifying customers in case of a breach. For more information, you can visit FTC.gov/SmallBusiness.\u001b[0m\n",
      "Thought:\u001b[32;1m\u001b[1;3m```json\n",
      "{\n",
      "    \"action\": \"Final Answer\",\n",
      "    \"action_input\": \"To protect your business, you should have a plan in place for staying up and running after a ransomware attack. Regularly back up your data to a drive or server not connected to your network, keep your security up to date by installing the latest patches and updates, alert your staff about phishing scams and provide regular training, deploy email authentication technology to prevent phishing emails, update your software and secure your files, require passwords for devices, encrypt devices and media containing sensitive information, use multi-factor authentication, and create a culture of security through regular employee training. Additionally, have a plan for saving data, running the business, and notifying customers in case of a breach. For more information, you can visit FTC.gov/SmallBusiness.\"\n",
      "}\n",
      "```\u001b[0m\n",
      "\n",
      "\u001b[1m> Finished chain.\u001b[0m\n"
     ]
    }
   ],
   "source": [
    "inp = []\n",
    "memory =[]\n",
    "out = []\n",
    "while True:\n",
    "    query = input(\"Ask me anything: \")\n",
    "    if query =='':\n",
    "        break\n",
    "    rest = agent(query)\n",
    "    inp.append(rest['input'])\n",
    "    memory.append(rest['chat_history'])\n",
    "    out.append(rest['output'])    "
   ]
  },
  {
   "cell_type": "code",
   "execution_count": 12,
   "metadata": {},
   "outputs": [
    {
     "data": {
      "text/plain": [
       "[\"To protect your business, you should have a plan in place for staying up and running after a ransomware attack. This plan should be put in writing and shared with everyone who needs to know. Regularly back up your data and ensure that those backups are not connected to the network. Keep your security up to date by installing the latest patches and updates, and look for additional means of protection like email authentication and intrusion prevention software. It's important to alert your staff and teach them how to avoid phishing scams and spot common ways computers and devices become infected. Additionally, deploying a safety net, such as email authentication technology, can help prevent phishing emails from reaching your employees. Creating a culture of security by implementing regular employee training and having a plan for saving data, running the business, and notifying customers in case of a breach are also important steps to protect your business. For more information, you can visit FTC.gov/SmallBusiness.\",\n",
       " 'To protect your business, you should have a plan in place for staying up and running after a ransomware attack. Regularly back up your data to a drive or server not connected to your network, keep your security up to date by installing the latest patches and updates, alert your staff about phishing scams and provide regular training, deploy email authentication technology to prevent phishing emails, update your software and secure your files, require passwords for devices, encrypt devices and media containing sensitive information, use multi-factor authentication, and create a culture of security through regular employee training. Additionally, have a plan for saving data, running the business, and notifying customers in case of a breach. For more information, you can visit FTC.gov/SmallBusiness.',\n",
       " 'To protect your business, you should have a plan in place for staying up and running after a ransomware attack. Regularly back up your data to a drive or server not connected to your network, keep your security up to date by installing the latest patches and updates, alert your staff about phishing scams and provide regular training, deploy email authentication technology to prevent phishing emails, update your software and secure your files, require passwords for devices, encrypt devices and media containing sensitive information, use multi-factor authentication, and create a culture of security through regular employee training. Additionally, have a plan for saving data, running the business, and notifying customers in case of a breach. For more information, you can visit FTC.gov/SmallBusiness.',\n",
       " 'To protect your business, you should have a plan in place for staying up and running after a ransomware attack. Regularly back up your data to a drive or server not connected to your network, keep your security up to date by installing the latest patches and updates, alert your staff about phishing scams and provide regular training, deploy email authentication technology to prevent phishing emails, update your software and secure your files, require passwords for devices, encrypt devices and media containing sensitive information, use multi-factor authentication, and create a culture of security through regular employee training. Additionally, have a plan for saving data, running the business, and notifying customers in case of a breach. For more information, you can visit FTC.gov/SmallBusiness.']"
      ]
     },
     "execution_count": 12,
     "metadata": {},
     "output_type": "execute_result"
    }
   ],
   "source": [
    "out"
   ]
  },
  {
   "cell_type": "code",
   "execution_count": null,
   "metadata": {},
   "outputs": [],
   "source": []
  }
 ],
 "metadata": {
  "kernelspec": {
   "display_name": "langchain",
   "language": "python",
   "name": "python3"
  },
  "language_info": {
   "codemirror_mode": {
    "name": "ipython",
    "version": 3
   },
   "file_extension": ".py",
   "mimetype": "text/x-python",
   "name": "python",
   "nbconvert_exporter": "python",
   "pygments_lexer": "ipython3",
   "version": "3.12.1"
  }
 },
 "nbformat": 4,
 "nbformat_minor": 2
}
